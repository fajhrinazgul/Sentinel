{
 "cells": [
  {
   "cell_type": "markdown",
   "id": "2e82418e",
   "metadata": {
    "slideshow": {
     "slide_type": "slide"
    }
   },
   "source": [
    "# Python Variabel\n",
    "\n",
    "Variabel adalah tempat penyimpanan nilai-nilai sementara. Biasanya penyimpanan sementara di dalam sebuah komputer adalah RAM. Jadi ketika membuat variabel di dalam bahasa pemrograman kita menggunakan ruang-ruang kosong di dalam ram."
   ]
  },
  {
   "cell_type": "code",
   "execution_count": 2,
   "id": "05fe8b46",
   "metadata": {
    "slideshow": {
     "slide_type": "subslide"
    }
   },
   "outputs": [
    {
     "name": "stdout",
     "output_type": "stream",
     "text": [
      "Python\n"
     ]
    }
   ],
   "source": [
    "var = \"Python\"\n",
    "# `var` adalah nama dari variabel\n",
    "# `=` adalah operator penugasan\n",
    "# Setiap setelah operator penugasan (=) adalah VALUE dari sebuah variabel\n",
    "\n",
    "# Untuk memanggil variabel kita hanya mengetikkan nama variabel itu. Contoh\n",
    "print(var) # Print variabel nama"
   ]
  },
  {
   "cell_type": "code",
   "execution_count": 3,
   "id": "8a3b97d2",
   "metadata": {
    "slideshow": {
     "slide_type": "fragment"
    }
   },
   "outputs": [
    {
     "name": "stdout",
     "output_type": "stream",
     "text": [
      "Python Programming\n"
     ]
    }
   ],
   "source": [
    "nama = \"Python Programming\"\n",
    "print(nama)"
   ]
  },
  {
   "cell_type": "code",
   "execution_count": 4,
   "id": "8d09634f",
   "metadata": {
    "slideshow": {
     "slide_type": "fragment"
    }
   },
   "outputs": [
    {
     "name": "stdout",
     "output_type": "stream",
     "text": [
      "15\n"
     ]
    }
   ],
   "source": [
    "umur = 15\n",
    "print(umur)"
   ]
  }
 ],
 "metadata": {
  "celltoolbar": "Slideshow",
  "kernelspec": {
   "display_name": "Python 3 (ipykernel)",
   "language": "python",
   "name": "python3"
  },
  "language_info": {
   "codemirror_mode": {
    "name": "ipython",
    "version": 3
   },
   "file_extension": ".py",
   "mimetype": "text/x-python",
   "name": "python",
   "nbconvert_exporter": "python",
   "pygments_lexer": "ipython3",
   "version": "3.9.7"
  }
 },
 "nbformat": 4,
 "nbformat_minor": 5
}
