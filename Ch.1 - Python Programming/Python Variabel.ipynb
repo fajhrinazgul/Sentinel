{
 "cells": [
  {
   "cell_type": "markdown",
   "id": "e975dfe2",
   "metadata": {},
   "source": [
    "# Python Variable\n",
    "\n",
    "Variables are temporary storage places for values. Usually temporary storage in a computer is RAM. So when creating variables in programming language we use free spaces in ram."
   ]
  },
  {
   "cell_type": "code",
   "execution_count": 1,
   "id": "05fe8b46",
   "metadata": {
    "slideshow": {
     "slide_type": "subslide"
    }
   },
   "outputs": [
    {
     "name": "stdout",
     "output_type": "stream",
     "text": [
      "Python\n"
     ]
    }
   ],
   "source": [
    "var = \"Python\"\n",
    "# `var` is the name of variable\n",
    "# `=` is the assignment operator\n",
    "# Every time after the assignment operator (=) is the VALUE of a variable\n",
    "\n",
    "# To call a variable we just type the name of that variable. Example\n",
    "print(var) # Print variable name"
   ]
  },
  {
   "cell_type": "code",
   "execution_count": 2,
   "id": "8a3b97d2",
   "metadata": {
    "slideshow": {
     "slide_type": "fragment"
    }
   },
   "outputs": [
    {
     "name": "stdout",
     "output_type": "stream",
     "text": [
      "Python Programming\n"
     ]
    }
   ],
   "source": [
    "nama = \"Python Programming\"\n",
    "print(nama)"
   ]
  },
  {
   "cell_type": "code",
   "execution_count": 3,
   "id": "8d09634f",
   "metadata": {
    "slideshow": {
     "slide_type": "fragment"
    }
   },
   "outputs": [
    {
     "name": "stdout",
     "output_type": "stream",
     "text": [
      "15\n"
     ]
    }
   ],
   "source": [
    "umur = 15\n",
    "print(umur)"
   ]
  }
 ],
 "metadata": {
  "celltoolbar": "Slideshow",
  "kernelspec": {
   "display_name": "Python 3 (ipykernel)",
   "language": "python",
   "name": "python3"
  },
  "language_info": {
   "codemirror_mode": {
    "name": "ipython",
    "version": 3
   },
   "file_extension": ".py",
   "mimetype": "text/x-python",
   "name": "python",
   "nbconvert_exporter": "python",
   "pygments_lexer": "ipython3",
   "version": "3.9.7"
  }
 },
 "nbformat": 4,
 "nbformat_minor": 5
}
