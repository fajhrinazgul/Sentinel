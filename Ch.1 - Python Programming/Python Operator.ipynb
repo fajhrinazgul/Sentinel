{
 "cells": [
  {
   "cell_type": "markdown",
   "id": "00203c0f",
   "metadata": {
    "slideshow": {
     "slide_type": "slide"
    }
   },
   "source": [
    "# Python Operator\n",
    "\n",
    "Operator adalah konstruksi yang dapat memanipulasi operan. Dan operator python sama halnya dengan operasi aritmatika. \n",
    "\n",
    "Contoh:\n",
    "- Pertambahan (+)\n",
    "- Pengurangan (-)\n",
    "- Perkalian (*)\n",
    "- Pembagian (/)\n",
    "- dll"
   ]
  },
  {
   "cell_type": "markdown",
   "id": "ce46887a",
   "metadata": {
    "slideshow": {
     "slide_type": "slide"
    }
   },
   "source": [
    "### Pertambahan"
   ]
  },
  {
   "cell_type": "code",
   "execution_count": 1,
   "id": "14eaa15c",
   "metadata": {
    "slideshow": {
     "slide_type": "fragment"
    }
   },
   "outputs": [
    {
     "name": "stdout",
     "output_type": "stream",
     "text": [
      "24\n"
     ]
    }
   ],
   "source": [
    "print(12 + 12)"
   ]
  },
  {
   "cell_type": "code",
   "execution_count": 2,
   "id": "8b2e5c6d",
   "metadata": {
    "slideshow": {
     "slide_type": "fragment"
    }
   },
   "outputs": [
    {
     "name": "stdout",
     "output_type": "stream",
     "text": [
      "25\n"
     ]
    }
   ],
   "source": [
    "a = 20\n",
    "b = 5\n",
    "print(a + b)"
   ]
  },
  {
   "cell_type": "markdown",
   "id": "aa2229fd",
   "metadata": {
    "slideshow": {
     "slide_type": "subslide"
    }
   },
   "source": [
    "### Pengurangan"
   ]
  },
  {
   "cell_type": "code",
   "execution_count": 3,
   "id": "f8c44a79",
   "metadata": {
    "slideshow": {
     "slide_type": "fragment"
    }
   },
   "outputs": [
    {
     "name": "stdout",
     "output_type": "stream",
     "text": [
      "10\n"
     ]
    }
   ],
   "source": [
    "print(20 - 10)"
   ]
  },
  {
   "cell_type": "code",
   "execution_count": 4,
   "id": "470822e5",
   "metadata": {
    "slideshow": {
     "slide_type": "fragment"
    }
   },
   "outputs": [
    {
     "name": "stdout",
     "output_type": "stream",
     "text": [
      "5\n"
     ]
    }
   ],
   "source": [
    "a = 10\n",
    "b = 5\n",
    "print(a - b)"
   ]
  },
  {
   "cell_type": "markdown",
   "id": "60f3249d",
   "metadata": {
    "slideshow": {
     "slide_type": "subslide"
    }
   },
   "source": [
    "### Perkalian"
   ]
  },
  {
   "cell_type": "code",
   "execution_count": 5,
   "id": "6ed56333",
   "metadata": {
    "slideshow": {
     "slide_type": "fragment"
    }
   },
   "outputs": [
    {
     "name": "stdout",
     "output_type": "stream",
     "text": [
      "6\n"
     ]
    }
   ],
   "source": [
    "print(3 * 2)"
   ]
  },
  {
   "cell_type": "code",
   "execution_count": 6,
   "id": "eaa332e5",
   "metadata": {
    "slideshow": {
     "slide_type": "fragment"
    }
   },
   "outputs": [
    {
     "name": "stdout",
     "output_type": "stream",
     "text": [
      "15\n"
     ]
    }
   ],
   "source": [
    "a = 5\n",
    "b = 3\n",
    "print(a * b)"
   ]
  },
  {
   "cell_type": "markdown",
   "id": "6f05d684",
   "metadata": {
    "slideshow": {
     "slide_type": "subslide"
    }
   },
   "source": [
    "### Pembagian"
   ]
  },
  {
   "cell_type": "code",
   "execution_count": 7,
   "id": "0c003373",
   "metadata": {
    "slideshow": {
     "slide_type": "fragment"
    }
   },
   "outputs": [
    {
     "name": "stdout",
     "output_type": "stream",
     "text": [
      "5.0\n"
     ]
    }
   ],
   "source": [
    "print(10 / 2)"
   ]
  },
  {
   "cell_type": "code",
   "execution_count": 8,
   "id": "b389beb6",
   "metadata": {
    "slideshow": {
     "slide_type": "fragment"
    }
   },
   "outputs": [
    {
     "name": "stdout",
     "output_type": "stream",
     "text": [
      "2.5\n"
     ]
    }
   ],
   "source": [
    "a = 5\n",
    "b = 2\n",
    "print(a / b)"
   ]
  },
  {
   "cell_type": "markdown",
   "id": "afd72dc3",
   "metadata": {
    "slideshow": {
     "slide_type": "subslide"
    }
   },
   "source": [
    "### Modulus (Sisa Bagi)"
   ]
  },
  {
   "cell_type": "code",
   "execution_count": 10,
   "id": "4c1b5a00",
   "metadata": {
    "slideshow": {
     "slide_type": "fragment"
    }
   },
   "outputs": [
    {
     "name": "stdout",
     "output_type": "stream",
     "text": [
      "1\n"
     ]
    }
   ],
   "source": [
    "print(9 % 2)"
   ]
  },
  {
   "cell_type": "code",
   "execution_count": 11,
   "id": "875b8409",
   "metadata": {
    "slideshow": {
     "slide_type": "fragment"
    }
   },
   "outputs": [
    {
     "name": "stdout",
     "output_type": "stream",
     "text": [
      "3\n"
     ]
    }
   ],
   "source": [
    "a = 15\n",
    "b = 4\n",
    "print(a % b)"
   ]
  },
  {
   "cell_type": "markdown",
   "id": "ec25706c",
   "metadata": {
    "slideshow": {
     "slide_type": "subslide"
    }
   },
   "source": [
    "### Pemangkatan"
   ]
  },
  {
   "cell_type": "code",
   "execution_count": 12,
   "id": "0c9140ef",
   "metadata": {
    "slideshow": {
     "slide_type": "fragment"
    }
   },
   "outputs": [
    {
     "name": "stdout",
     "output_type": "stream",
     "text": [
      "4\n"
     ]
    }
   ],
   "source": [
    "print(2**2) # 2 Pangkat 2"
   ]
  },
  {
   "cell_type": "code",
   "execution_count": 13,
   "id": "3e438b5a",
   "metadata": {
    "slideshow": {
     "slide_type": "fragment"
    }
   },
   "outputs": [
    {
     "name": "stdout",
     "output_type": "stream",
     "text": [
      "125\n"
     ]
    }
   ],
   "source": [
    "a = 5\n",
    "b = 3\n",
    "print(a**b) # 5 pangkat 3"
   ]
  }
 ],
 "metadata": {
  "celltoolbar": "Slideshow",
  "kernelspec": {
   "display_name": "Python 3 (ipykernel)",
   "language": "python",
   "name": "python3"
  },
  "language_info": {
   "codemirror_mode": {
    "name": "ipython",
    "version": 3
   },
   "file_extension": ".py",
   "mimetype": "text/x-python",
   "name": "python",
   "nbconvert_exporter": "python",
   "pygments_lexer": "ipython3",
   "version": "3.9.7"
  }
 },
 "nbformat": 4,
 "nbformat_minor": 5
}
